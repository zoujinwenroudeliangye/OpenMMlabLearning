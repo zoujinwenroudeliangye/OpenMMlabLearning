{
 "cells": [
  {
   "cell_type": "code",
   "execution_count": 7,
   "id": "8df0aade",
   "metadata": {},
   "outputs": [
    {
     "name": "stderr",
     "output_type": "stream",
     "text": [
      "python: can't open file 'C:\\Users\\HKZ\\mmpretrain\\projects\\fruit30\\tools\\train.py': [Errno 2] No such file or directory\n"
     ]
    }
   ],
   "source": [
    "!python tools/train.py ${\"resnet50_finetune.py\"}"
   ]
  },
  {
   "cell_type": "code",
   "execution_count": null,
   "id": "e4f35bc5",
   "metadata": {},
   "outputs": [],
   "source": []
  },
  {
   "cell_type": "code",
   "execution_count": null,
   "id": "6cab8cdd",
   "metadata": {},
   "outputs": [],
   "source": []
  }
 ],
 "metadata": {
  "kernelspec": {
   "display_name": "Python 3 (ipykernel)",
   "language": "python",
   "name": "python3"
  },
  "language_info": {
   "codemirror_mode": {
    "name": "ipython",
    "version": 3
   },
   "file_extension": ".py",
   "mimetype": "text/x-python",
   "name": "python",
   "nbconvert_exporter": "python",
   "pygments_lexer": "ipython3",
   "version": "3.9.16"
  }
 },
 "nbformat": 4,
 "nbformat_minor": 5
}
